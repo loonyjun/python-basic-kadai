{
  "nbformat": 4,
  "nbformat_minor": 0,
  "metadata": {
    "colab": {
      "provenance": []
    },
    "kernelspec": {
      "name": "python3",
      "display_name": "Python 3"
    },
    "language_info": {
      "name": "python"
    }
  },
  "cells": [
    {
      "cell_type": "code",
      "execution_count": 12,
      "metadata": {
        "colab": {
          "base_uri": "https://localhost:8080/"
        },
        "id": "RsQuXjYhm1k_",
        "outputId": "5d11f036-7b20-4438-b73b-6676b96f37e7"
      },
      "outputs": [
        {
          "output_type": "stream",
          "name": "stdout",
          "text": [
            "合計金額（税込）: 5500.0\n"
          ]
        }
      ],
      "source": [
        "# 商品を購入して、消費税を加えた計算結果を返す関数を記述してください。\n",
        "# 第1引数に商品の金額、第2引数に消費税（10%）を設定できるようにしてください。\n",
        "\n",
        "\n",
        "def calculate_total_price(price, tax_rate=0.1):\n",
        "# 消費税を計算して加える\n",
        "  total_price = price + price * tax_rate\n",
        "  return total_price\n",
        "\n",
        "# 商品の金額と消費税率（10%）を指定して関数を呼び出す例\n",
        "product_price = 5000\n",
        "tax_rate = 0.1\n",
        "total_price = calculate_total_price(product_price, tax_rate)\n",
        "print(\"合計金額（税込）:\", total_price)"
      ]
    },
    {
      "cell_type": "code",
      "source": [],
      "metadata": {
        "id": "T4CcyBsPoS-M"
      },
      "execution_count": null,
      "outputs": []
    }
  ]
}