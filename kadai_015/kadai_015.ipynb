{
  "nbformat": 4,
  "nbformat_minor": 0,
  "metadata": {
    "colab": {
      "provenance": []
    },
    "kernelspec": {
      "name": "python3",
      "display_name": "Python 3"
    },
    "language_info": {
      "name": "python"
    }
  },
  "cells": [
    {
      "cell_type": "code",
      "execution_count": 1,
      "metadata": {
        "id": "92ZADYHdmhtd"
      },
      "outputs": [],
      "source": [
        "# 名前(name)と年齢(age)の属性を持つHumanクラスを作成してください。\n",
        "# nameとageを標準出力(print)するメソッド(printinfo)を追加してください。\n",
        "# Humanクラスのインスタンスは、変数に代入してプログラム内で使用してください。"
      ]
    },
    {
      "cell_type": "code",
      "source": [
        "#クラスの定義\n",
        "class Human:\n",
        "  def __init__(self):\n",
        "    self.name = \"\"\n",
        "\n",
        "  def set_name(self , name ,age):\n",
        "    self.name = name\n",
        "    self.age = age\n",
        "\n",
        "  def printinfo(self):\n",
        "    print(self.name , self.age)\n",
        "\n",
        "human = Human()\n",
        "human.set_name(\"Jonny\",36)\n",
        "human.printinfo()\n"
      ],
      "metadata": {
        "colab": {
          "base_uri": "https://localhost:8080/"
        },
        "id": "O0dElRFDmsKC",
        "outputId": "ec5e78cb-7af2-4491-99b7-cefafebafe86"
      },
      "execution_count": 2,
      "outputs": [
        {
          "output_type": "stream",
          "name": "stdout",
          "text": [
            "Jonny 36\n"
          ]
        }
      ]
    },
    {
      "cell_type": "code",
      "source": [],
      "metadata": {
        "id": "GXmtrRaCmuHg"
      },
      "execution_count": null,
      "outputs": []
    }
  ]
}