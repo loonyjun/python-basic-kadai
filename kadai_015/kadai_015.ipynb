{
  "nbformat": 4,
  "nbformat_minor": 0,
  "metadata": {
    "colab": {
      "provenance": []
    },
    "kernelspec": {
      "name": "python3",
      "display_name": "Python 3"
    },
    "language_info": {
      "name": "python"
    }
  },
  "cells": [
    {
      "cell_type": "code",
      "execution_count": null,
      "metadata": {
        "id": "92ZADYHdmhtd"
      },
      "outputs": [],
      "source": [
        "# 名前(name)と年齢(age)の属性を持つHumanクラスを作成してください。\n",
        "# nameとageを標準出力(print)するメソッド(printinfo)を追加してください。\n",
        "# Humanクラスのインスタンスは、変数に代入してプログラム内で使用してください。"
      ]
    },
    {
      "cell_type": "code",
      "source": [
        "#クラスの定義\n",
        "class Human:\n",
        "  def __init__(self):\n",
        "    self.name = \"\"\n",
        "\n",
        "  def set_name(self , name ,age):\n",
        "    self.name = name\n",
        "    self.age = age\n",
        "\n",
        "  def printinfo(self):\n",
        "    print(self.name , self.age)\n",
        "\n",
        "human = Human()\n",
        "human.set_name(\"Jonny\",36)\n",
        "human.printinfo()\n"
      ],
      "metadata": {
        "id": "O0dElRFDmsKC",
        "outputId": "ec5e78cb-7af2-4491-99b7-cefafebafe86",
        "colab": {
          "base_uri": "https://localhost:8080/"
        }
      },
      "execution_count": null,
      "outputs": [
        {
          "output_type": "stream",
          "name": "stdout",
          "text": [
            "Jonny 36\n"
          ]
        }
      ]
    },
    {
      "cell_type": "code",
      "source": [
        "#再提出\n",
        "\n",
        "class Human:\n",
        "    def __init__(self, name, age):\n",
        "        self.name = name\n",
        "        self.age = age\n",
        "\n",
        "    def printinfo(self):\n",
        "        print(self.name, self.age)\n",
        "\n",
        "# Humanクラスのインスタンスを作成し、名前と年齢を設定して情報を出力する\n",
        "human = Human(\"Jonny\", 36)\n",
        "human.printinfo()\n"
      ],
      "metadata": {
        "id": "GXmtrRaCmuHg",
        "colab": {
          "base_uri": "https://localhost:8080/"
        },
        "outputId": "44c69065-aedf-423c-e504-15eb33197bc6"
      },
      "execution_count": 1,
      "outputs": [
        {
          "output_type": "stream",
          "name": "stdout",
          "text": [
            "Jonny 36\n"
          ]
        }
      ]
    },
    {
      "cell_type": "code",
      "source": [],
      "metadata": {
        "id": "w33NXhGXvD0H"
      },
      "execution_count": null,
      "outputs": []
    }
  ]
}