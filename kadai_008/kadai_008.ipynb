{
  "nbformat": 4,
  "nbformat_minor": 0,
  "metadata": {
    "colab": {
      "provenance": []
    },
    "kernelspec": {
      "name": "python3",
      "display_name": "Python 3"
    },
    "language_info": {
      "name": "python"
    }
  },
  "cells": [
    {
      "cell_type": "code",
      "execution_count": 100,
      "metadata": {
        "colab": {
          "base_uri": "https://localhost:8080/"
        },
        "id": "w7qK28HH5b3k",
        "outputId": "44667bf5-fb35-4d27-bf7a-242a1b41e239"
      },
      "outputs": [
        {
          "output_type": "stream",
          "name": "stdout",
          "text": [
            "var\n"
          ]
        }
      ],
      "source": [
        "# 変数varが、3の倍数の場合は「Fizz」を出力\n",
        "# 変数varが、5の倍数の場合は「Buzz」を出力\n",
        "# 変数varが、3の倍数と5の倍数の両方に該当する場合は「FizzBuzz」を出力\n",
        "# 上記のどの場合にも該当しない場合は、変数varの値を出力\n",
        "\n",
        "import random\n",
        "var = random.randint(0 , 15)\n",
        "\n",
        "if var % 3 == 0 and var % 5 == 0:\n",
        "  print(\"FizzBuzz\")\n",
        "\n",
        "elif var % 5 == 0:\n",
        "  print(\"Buzz\")\n",
        "\n",
        "elif var % 3 == 0:\n",
        "  print(\"Fizz\")\n",
        "\n",
        "else:\n",
        "  print(\"var\")\n"
      ]
    },
    {
      "cell_type": "code",
      "source": [],
      "metadata": {
        "id": "gEDztMXz7JCC"
      },
      "execution_count": null,
      "outputs": []
    }
  ]
}