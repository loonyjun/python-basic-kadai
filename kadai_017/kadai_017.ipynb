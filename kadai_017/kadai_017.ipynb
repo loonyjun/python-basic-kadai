{
  "nbformat": 4,
  "nbformat_minor": 0,
  "metadata": {
    "colab": {
      "provenance": []
    },
    "kernelspec": {
      "name": "python3",
      "display_name": "Python 3"
    },
    "language_info": {
      "name": "python"
    }
  },
  "cells": [
    {
      "cell_type": "code",
      "execution_count": 1,
      "metadata": {
        "colab": {
          "base_uri": "https://localhost:8080/"
        },
        "id": "g7XtZ4iNEY0z",
        "outputId": "0d886aba-a612-4102-d235-c7481570c572"
      },
      "outputs": [
        {
          "output_type": "stream",
          "name": "stdout",
          "text": [
            "Alice さんは大人です\n",
            "Bob さんは大人ではありません\n",
            "Charlie さんは大人です\n"
          ]
        }
      ],
      "source": [
        "class Human:\n",
        "    def __init__(self, name, age):\n",
        "        self.name = name\n",
        "        self.age = age\n",
        "\n",
        "    def check_adult(self):\n",
        "        if self.age >= 20:\n",
        "            print(f\"{self.name} さんは大人です\")\n",
        "        else:\n",
        "            print(f\"{self.name} さんは大人ではありません\")\n",
        "\n",
        "# Humanクラスのインスタンスを作成してリストに追加\n",
        "humans = [\n",
        "    Human(\"Alice\", 25),\n",
        "    Human(\"Bob\", 18),\n",
        "    Human(\"Charlie\", 30)\n",
        "]\n",
        "\n",
        "# リストの要素ごとにcheck_adultメソッドを呼び出す\n",
        "for human in humans:\n",
        "    human.check_adult()\n"
      ]
    },
    {
      "cell_type": "code",
      "source": [],
      "metadata": {
        "id": "uqBORGAFExII"
      },
      "execution_count": null,
      "outputs": []
    }
  ]
}